{
  "nbformat": 4,
  "nbformat_minor": 0,
  "metadata": {
    "colab": {
      "provenance": [],
      "authorship_tag": "ABX9TyNjdiaNLrwkHdR5B1YsMFcB",
      "include_colab_link": true
    },
    "kernelspec": {
      "name": "python3",
      "display_name": "Python 3"
    },
    "language_info": {
      "name": "python"
    }
  },
  "cells": [
    {
      "cell_type": "markdown",
      "metadata": {
        "id": "view-in-github",
        "colab_type": "text"
      },
      "source": [
        "<a href=\"https://colab.research.google.com/github/Rakesh1142/Guvi/blob/main/Task1.ipynb\" target=\"_parent\"><img src=\"https://colab.research.google.com/assets/colab-badge.svg\" alt=\"Open In Colab\"/></a>"
      ]
    },
    {
      "cell_type": "code",
      "execution_count": null,
      "metadata": {
        "id": "FpLgmX5493nH"
      },
      "outputs": [],
      "source": []
    },
    {
      "cell_type": "code",
      "source": [
        "import re\n",
        "import getpass\n",
        "\n",
        "email_cond='[A-Za-z0-9_+*]+@[A-Za-z0-9]+\\.[A-Za-z]{3,}'\n",
        "def check(email):\n",
        "    if re.search(\"^1\",email):\n",
        "        print(\"invalid mail\")\n",
        "    else:\n",
        "        if(re.fullmatch(email_cond,email)):\n",
        "            print(\"valid mail\")\n",
        "        else:\n",
        "            print(\"invalid mail\")\n",
        "\n",
        "        \n",
        "email=input(\"enter email \")\n",
        "check(email)\n",
        "\n",
        "p=getpass.getpass()\n",
        "flag=1\n",
        "while True:\n",
        "    if(len(p)<8):\n",
        "        flag=0\n",
        "        break\n",
        "    elif not re.search(\"[a-z]\",p):\n",
        "        flag=0\n",
        "        break\n",
        "    elif not re.search(\"[A-Z]\",p):\n",
        "        flag=0\n",
        "        break\n",
        "    elif not re.search(\"[0-9]\",p):\n",
        "        flag=0\n",
        "        break\n",
        "    elif not re.search(\"[@$]\",p):\n",
        "        flag=0\n",
        "        break\n",
        "    elif re.search(\"\\s\",p):\n",
        "        flag=0\n",
        "        break\n",
        "    else:\n",
        "        print(\"valid password\")\n",
        "        break\n",
        "if flag==0:\n",
        "    print(\"invalid\")\n",
        "\n",
        "f=open(\"sample52.txt\",\"w\") \n",
        "\n",
        "myDict = {'Email': 'sherlock@gmail.com', 'Name': 'Sherlock' , 'Age': '23', 'Address': 'London'}\n",
        "\n",
        "key = input(\"Please enter the Mail you want to search for: \")\n",
        "if key in myDict.values():\n",
        "    print(\"\\nMail Exists \")\n",
        "else:\n",
        "    print(\"\\nMail Does not Exists. Kindly register your login on portal\")\n",
        "f.close()"
      ],
      "metadata": {
        "colab": {
          "base_uri": "https://localhost:8080/"
        },
        "id": "JqLBDW_U98rV",
        "outputId": "4d882bd9-f9a7-4494-eaf7-7f080238bfa9"
      },
      "execution_count": 1,
      "outputs": [
        {
          "output_type": "stream",
          "name": "stdout",
          "text": [
            "enter email sherlock@gmail.com\n",
            "valid mail\n",
            "··········\n",
            "valid password\n",
            "Please enter the Mail you want to search for: sherlock@gmail.com\n",
            "\n",
            "Mail Exists \n"
          ]
        }
      ]
    }
  ]
}